{
 "cells": [
  {
   "cell_type": "markdown",
   "metadata": {},
   "source": [
    "# Lab 8: Applications of Markov chains and graphs"
   ]
  },
  {
   "cell_type": "markdown",
   "metadata": {},
   "source": [
    "In this lab we will be looking at some applications of Markov chains and graphs, namely, the page rank algorithm, an introduction to statistical inference with a Markov model, and cache replacement policies.\n",
    "\n",
    "Below is the code to import the modules we will be using throughout this lab."
   ]
  },
  {
   "cell_type": "code",
   "execution_count": 18,
   "metadata": {},
   "outputs": [
    {
     "name": "stdout",
     "output_type": "stream",
     "text": [
      "Modules Imported!\n",
      "Markov_chain class defined\n"
     ]
    }
   ],
   "source": [
    "%matplotlib inline\n",
    "import matplotlib.pyplot as plt\n",
    "import numpy as np\n",
    "import scipy as sp\n",
    "import scipy.stats as st\n",
    "import csv as csv\n",
    "import networkx as nx\n",
    "import random\n",
    "print (\"Modules Imported!\")\n",
    "\n",
    "# Markov chain object similar to random variable objects in scipy.stats (st)\n",
    "\n",
    "class Markov_chain:\n",
    "    def __init__(self, P, pi0):   # The transition probability matrix and initial distribution are passed\n",
    "        self.P = P \n",
    "        self.pi0 = pi0\n",
    "        self.n=np.size(pi0)\n",
    "        if np.shape(P) != (self.n,self.n):\n",
    "            print (\"Error: Shape of P doesn't match pi0\")\n",
    "   \n",
    "    def rvs(self,T):     # produce a length T segment of variates of the random process\n",
    "        X = [np.random.choice(self.n, p=self.pi0)]  # p is a needed input for np.random.choice()\n",
    "        for t in range(1,T):\n",
    "            X.append(np.random.choice(self.n, p=self.P[X[t-1],:])) \n",
    "        return np.array(X)\n",
    "    \n",
    "    def pi(self,t):    # produce probability distribution at time t\n",
    "        pi_new=self.pi0\n",
    "        for s in range(t):\n",
    "            pi_new = np.dot(pi_new, self.P)    # one step update of probability distribution\n",
    "        return pi_new\n",
    "print (\"Markov_chain class defined\")"
   ]
  },
  {
   "cell_type": "markdown",
   "metadata": {},
   "source": [
    "## Page Rank Algorithm"
   ]
  },
  {
   "cell_type": "markdown",
   "metadata": {},
   "source": [
    "Now that we see how to generate, manipulate, and plot graphs, we can investigate Page's ranking algorithm for webpages, which uses a Markov chain based on the graphical structure of the set of web pages on the Internet.  Suppose now that we have a directed graph that represents a set of web pages; a link from one webpage to another designates that the first webpage has a hyperlink to the second webpage.   Then webpages that have more incoming edges should have a higher rank.   If the webpages pointing into a particular webpage have higher ranks, then the ranking of the webpage pointed to should be even higher.    These ideas are encapsulated in the pagerank algorithm, which is based on a Markov chain with the following one-step transition probability matrix:  \n",
    "$p_{i,j} = \\frac{dA_{i,j}}{\\mbox{out_degree}(i)} +  \\frac{1-d}{n}.$  Here $A$ represents the adjacency matrix of the graph, so that $A_{i,j}=1$ if there is an edge from $i$ to $j,$  and $A_{i,j}=0$ otherwise.\n",
    "Originally Google used $d$=85%. That is, if the current state is $i$, then a biased coin is flipped with heads showing with probability $d.$   If heads shows, then the next state is one of the nodes pointed to by node $i,$  with all choices having equal probability.  If tails shows, the next node is selected at random from among all nodes in the graph, each with equal probability.  There is a slight problem about what to do if a node has outdegree zero because in that case the first term is not well defined; you will be asked to address this problem.\n",
    "\n",
    "The following code generates a random directed graph, and then ranks the popularity of the nodes in the graph using the pagerank method. The code uses the adjacency matrix of the graph, mentioned above. Instead of using the equilibrium distribution for the Markov chain, we use the probability distribution of the chain after 100 time steps.  The row sums of the adjacency matrix give the outdegrees.  One way to think about it is that the Markov chain models a person randomly clicking through webpages.  Pages are ranked according to the probability distribution of which page the person has reached after 100 time steps."
   ]
  },
  {
   "cell_type": "code",
   "execution_count": 10,
   "metadata": {},
   "outputs": [
    {
     "data": {
      "image/png": "[encoded data removed]",
      "text/plain": [
       "<Figure size 432x288 with 1 Axes>"
      ]
     },
     "metadata": {},
     "output_type": "display_data"
    },
    {
     "name": "stdout",
     "output_type": "stream",
     "text": [
      "[[0.15666667 0.15666667 0.15666667 0.015      0.015      0.15666667\n",
      "  0.015      0.15666667 0.15666667 0.015     ]\n",
      " [0.015      0.29833333 0.58166667 0.015      0.015      0.015\n",
      "  0.015      0.015      0.015      0.015     ]\n",
      " [0.44       0.015      0.44       0.015      0.015      0.015\n",
      "  0.015      0.015      0.015      0.015     ]\n",
      " [0.44       0.015      0.015      0.44       0.015      0.015\n",
      "  0.015      0.015      0.015      0.015     ]\n",
      " [0.015      0.015      0.44       0.015      0.2275     0.015\n",
      "  0.2275     0.015      0.015      0.015     ]\n",
      " [0.015      0.015      0.015      0.015      0.015      0.865\n",
      "  0.015      0.015      0.015      0.015     ]\n",
      " [0.015      0.015      0.015      0.015      0.015      0.015\n",
      "  0.865      0.015      0.015      0.015     ]\n",
      " [0.015      0.015      0.015      0.015      0.015      0.015\n",
      "  0.015      0.865      0.015      0.015     ]\n",
      " [0.015      0.015      0.015      0.015      0.015      0.015\n",
      "  0.015      0.015      0.865      0.015     ]\n",
      " [0.44       0.015      0.015      0.015      0.015      0.015\n",
      "  0.015      0.015      0.015      0.44      ]]\n",
      "rank vector [ 6.  7.  5.  9. 10.  3.  4.  2.  1.  8.]\n",
      "Simulated state sequence:  [1 2 5 5 5 5 5 5 5 5 5 2 2 2 0 5 5 5 6 6 6 6 6 6 6 6 6 6 6 6 6 6 6 2 0 0 8\n",
      " 8 8 8 0 0 0 8 8 8 8 8 8 8 8 8 8 8 6 6 6 6 6 6 6 9 9 2 0 0 7 7 7 7 7 7 7 7\n",
      " 7 7 7 7 6 6 6 6 6 6 6 6 6 6 5 5 5 5 5 5 5 5 5 5 5 5]\n"
     ]
    }
   ],
   "source": [
    "# A simulation of the pagerank algorithm\n",
    "#import networkx as nx\n",
    "\n",
    "# Create a random directed graph object and plot it:\n",
    "G = nx.scale_free_graph(10, alpha=0.2, beta=0.4, gamma=0.4)   \n",
    "nx.draw(G,with_labels=1)\n",
    "plt.show()\n",
    "\n",
    "# Next we add identity matrix to the adjacency matrix, which\n",
    "# is equivalent to adding a self loop to each node.\n",
    "# This is a way to make the out degree of every node nonzero.\n",
    "# nx returns adjacency matrix in Scipy sparse format; toarray() converts to dense format\n",
    "n = G.number_of_nodes()\n",
    "A = np.array(nx.adjacency_matrix(G).toarray()) + np.identity(n)\n",
    "                                                       \n",
    "d=0.85    # continuation parameter for pagerank\n",
    " # Next, define transition probability matrix for page rank algoritm\n",
    "P=d*A/A.sum(axis=1)[:,np.newaxis]  + ((1-d)/n)*np.ones((n,n))   # This line of code is crucial to answer part 2 of Problem 1. \n",
    "pi0=np.ones((n))/n \n",
    "\n",
    "markov=Markov_chain(P, pi0)  # Uses Markov_chain class defined in first code cell above\n",
    "    \n",
    "print (\"rank vector\", st.rankdata(-markov.pi(100)))  # larger probabilities map to smaller numbers\n",
    "print (\"Simulated state sequence: \", markov.rvs(100))   # Prints simulation of Markov chain"
   ]
  },
  {
   "cell_type": "markdown",
   "metadata": {},
   "source": [
    "**<SPAN style=\"BACKGROUND-COLOR: #C0C0C0\">Problem 1:</SPAN>** Run the above code and examine the output for a few graphs.  The nodes are numbered from 0 to n-1, and the rank vector gives the popularity rank for each node.  For example, the position of the one in the rank vector denotes the most popular node.\n",
    "<ol><li> Qualitatively comment on the graphs. Where does it appear that the most popular nodes are?</li>\n",
    "<li> The above code uses a particular method to deal with nodes that have no neighbors.   Perhaps it is not fair, because it rewards nodes that have no links to other nodes.   Propose and implement another method for dealing with nodes that have no outgoing links that you think is better.  Explain why you think your method is better.</li>"
   ]
  },
  {
   "cell_type": "markdown",
   "metadata": {},
   "source": [
    "__Answer:__ (Your answer here)\n",
    "<li> part 1<li>\n",
    "    The node which has most egdes points to.\n",
    "<li> part 2<li>\n",
    "    If there is no outgoing links in current node, the probabilty to each node should be same. Thus, I use equal probability to each node when there is no outgoing edges. That's th reason why mine is better."
   ]
  },
  {
   "cell_type": "code",
   "execution_count": 15,
   "metadata": {},
   "outputs": [
    {
     "data": {
      "image/png": "[encoded data removed]",
      "text/plain": [
       "<Figure size 432x288 with 1 Axes>"
      ]
     },
     "metadata": {},
     "output_type": "display_data"
    },
    {
     "name": "stdout",
     "output_type": "stream",
     "text": [
      "[[0.18499998 0.18499998 0.01500002 0.01500002 0.01500002 0.01500002\n",
      "  0.18499998 0.18499998 0.18499998 0.01500002]\n",
      " [0.01500008 0.01500008 0.86499924 0.01500008 0.01500008 0.01500008\n",
      "  0.01500008 0.01500008 0.01500008 0.01500008]\n",
      " [0.13642857 0.13642857 0.01500001 0.01500001 0.25785712 0.25785712\n",
      "  0.01500001 0.01500001 0.01500001 0.13642857]\n",
      " [0.01500008 0.86499924 0.01500008 0.01500008 0.01500008 0.01500008\n",
      "  0.01500008 0.01500008 0.01500008 0.01500008]\n",
      " [0.1        0.1        0.1        0.1        0.1        0.1\n",
      "  0.1        0.1        0.1        0.1       ]\n",
      " [0.1        0.1        0.1        0.1        0.1        0.1\n",
      "  0.1        0.1        0.1        0.1       ]\n",
      " [0.1        0.1        0.1        0.1        0.1        0.1\n",
      "  0.1        0.1        0.1        0.1       ]\n",
      " [0.1        0.1        0.1        0.1        0.1        0.1\n",
      "  0.1        0.1        0.1        0.1       ]\n",
      " [0.1        0.1        0.1        0.1        0.1        0.1\n",
      "  0.1        0.1        0.1        0.1       ]\n",
      " [0.1        0.1        0.1        0.1        0.1        0.1\n",
      "  0.1        0.1        0.1        0.1       ]]\n",
      "rank vector [ 5.   2.   1.  10.   3.5  3.5  8.   8.   8.   6. ]\n",
      "Simulated state sequence:  [4 7 5 4 7 7 4 5 2 3 7 5 3 1 2 4 0 5 9 3 1 0 7 3 1 2 5 0 8 2 9 1 6 2 5 3 1\n",
      " 2 3 1 2 4 9 9 2 4 9 9 3 5 5 5 5 1 2 4 5 0 1 2 0 8 3 1 2 9 3 1 2 5 2 1 2 1\n",
      " 2 9 8 9 6 4 5 3 1 2 6 4 7 8 6 2 4 1 2 9 9 4 3 2 5 9]\n"
     ]
    }
   ],
   "source": [
    "# Your code here\n",
    "\n",
    "# Create a random directed graph object and plot it:\n",
    "G = nx.scale_free_graph(10, alpha=0.2, beta=0.4, gamma=0.4)   \n",
    "nx.draw(G,with_labels=1)\n",
    "plt.show()\n",
    "\n",
    "# Next we add identity matrix to the adjacency matrix, which\n",
    "# is equivalent to adding a self loop to each node.\n",
    "# This is a way to make the out degree of every node nonzero.\n",
    "# nx returns adjacency matrix in Scipy sparse format; toarray() converts to dense format\n",
    "n = G.number_of_nodes()\n",
    "A = np.array(nx.adjacency_matrix(G).toarray()) + np.ones((n,n))*0.0000001\n",
    "                                                       \n",
    "d=0.85    # continuation parameter for pagerank\n",
    " # Next, define transition probability matrix for page rank algoritm\n",
    "P=d*A/A.sum(axis=1)[:,np.newaxis]  + ((1-d)/n)*np.ones((n,n))   # This line of code is crucial to answer part 2 of Problem 1. \n",
    "pi0=np.ones((n))/n \n",
    "print(P)\n",
    "markov=Markov_chain(P, pi0)  # Uses Markov_chain class defined in first code cell above\n",
    "    \n",
    "print (\"rank vector\", st.rankdata(-markov.pi(100)))  # larger probabilities map to smaller numbers\n",
    "print (\"Simulated state sequence: \", markov.rvs(100))   # Prints simulation of Markov chain"
   ]
  },
  {
   "cell_type": "markdown",
   "metadata": {},
   "source": [
    "**<SPAN style=\"BACKGROUND-COLOR: #C0C0C0\">End of Problem 1</SPAN>**"
   ]
  },
  {
   "cell_type": "markdown",
   "metadata": {},
   "source": [
    "## Some statistical inference for Markov chains"
   ]
  },
  {
   "cell_type": "markdown",
   "metadata": {},
   "source": [
    "To prepare for statistical inference for Markov chains, we begin by considering the maximum likelihood (ML) estimator for the distribution of a  sequence of independent, identically distributed discrete random variables.   Specifically, suppose p=[p[0], . . . , p[n-1]] is a probability vector for random variables taking values in {0,1, . . . , n-1}.   That is, p[i] is the probability a generated random variable is equal to i.\n",
    "Suppose that you don't know what the vector p is, but you observe a sequence of T independent random variables that were generated using p.  How would you estimate p?   A natural guess is to use p_hat[i]=(number of samples equal to i)/T.   Basically, p_hat is just a normalized histogram of p.  It can be shown that this choice of p_hat is the maximum likelihood (ML) estimator of p.  (The usual proof is to use a Lagrange multiplier for the constraint p[0]+ . . . + p[n-1]=1.)  Try running the following code several times and see how well p_hat approximates p.  If T is increased the estimates become more accurate."
   ]
  },
  {
   "cell_type": "code",
   "execution_count": 16,
   "metadata": {},
   "outputs": [
    {
     "name": "stdout",
     "output_type": "stream",
     "text": [
      "    p: [0.2 0.2 0.4 0.2]\n",
      "p_hat: [0.18 0.24 0.43 0.15] (estimate of p based on  100 values)\n",
      "Sum of squared errors: 0.0054\n"
     ]
    }
   ],
   "source": [
    "p=np.array([0.2,0.2,0.4,0.2])\n",
    "c=np.arange(np.size(p))\n",
    "Xcstm = st.rv_discrete(values = (c,p))\n",
    "T=100  # Number of values generated\n",
    "values = Xcstm.rvs(size = T)\n",
    "# print (values)\n",
    "p_hat=np.bincount(values,minlength=np.size(p))/1./np.size(values)\n",
    "print (\"    p:\", p)\n",
    "print (\"p_hat:\", p_hat,\"(estimate of p based on \", T, \"values)\")\n",
    "print (\"Sum of squared errors:\", np.linalg.norm(p-p_hat)**2.)  # the norm method calculates the 2-norm by default"
   ]
  },
  {
   "cell_type": "markdown",
   "metadata": {},
   "source": [
    "The same principle can be used to estimate the transition probability matrix for a Markov chain.  \n",
    "<br>**<SPAN style=\"BACKGROUND-COLOR: #C0C0C0\">Problem 2:</SPAN>**   Generate a length T simulation of a four state Markov chain using some initial distriubution and some 4x4 transition probability matrix P.  Select P to have some zeros in it, but make sure the process can eventually get to any state starting from any other state.  Then, taking the generated sequence as the only input, generate an estimate, P_hat, of the matrix P.   Your estimator should be more accurate for larger values of T.  (Hint:  For a given state i, the ith row of P is the probability distribution of the next state, given the current state is i.  So to estimate the ith row of P, you should focus on the states that occur just after state i is visited.)"
   ]
  },
  {
   "cell_type": "code",
   "execution_count": 42,
   "metadata": {},
   "outputs": [
    {
     "name": "stdout",
     "output_type": "stream",
     "text": [
      "When T = 500 the P_hat is [[0.47761194029850745, 0.23134328358208955, 0.291044776119403, 0], [0.08396946564885496, 0.48854961832061067, 0, 0.42748091603053434], [0, 0.32727272727272727, 0.2636363636363636, 0.4090909090909091], [0.472, 0, 0.336, 0.192]]\n",
      "Sum of squared errors: 0.006999873026299225\n",
      "When T = 5000 the P_hat is [[0.5043830074173972, 0.2198246797033041, 0.27579231287929873, 0], [0.10526315789473684, 0.48761609907120745, 0, 0.4071207430340557], [0, 0.3167293233082707, 0.29041353383458646, 0.39285714285714285], [0.5150732127476314, 0, 0.2980189491817399, 0.18690783807062877]]\n",
      "Sum of squared errors: 0.0020553296186107514\n",
      "When T = 50000 the P_hat is [[0.49349179400113186, 0.20274476513865308, 0.30376344086021506, 0], [0.10141602721303694, 0.5029665374574797, 0, 0.3956174353294834], [0, 0.3000526870389884, 0.30435546188970847, 0.3955918510713031], [0.49657794676806083, 0, 0.3066328686100549, 0.19678918462188424]]\n",
      "Sum of squared errors: 0.00019848564963153003\n"
     ]
    }
   ],
   "source": [
    "# Your code here\n",
    "pi0 = np.array([1, 0, 0, 0])\n",
    "P = np.array([[0.5, 0.2, 0.3, 0],\n",
    "    [0.1, 0.5, 0, 0.4],\n",
    "    [0, 0.3, 0.3, 0.4],\n",
    "    [0.5, 0, 0.3, 0.2]])\n",
    "markov = Markov_chain(P, pi0)\n",
    "\n",
    "Tlist = [500, 5000, 50000]\n",
    "for T in Tlist:\n",
    "    counts = [[0, 0, 0, 0],\n",
    "              [0, 0, 0, 0],\n",
    "              [0, 0, 0, 0],\n",
    "              [0, 0, 0, 0]]\n",
    "    last = 0\n",
    "    for i in markov.rvs(T):\n",
    "        counts[last][i] += 1\n",
    "        last = i\n",
    "    for row in range(4):\n",
    "        sumr= sum(counts[row])\n",
    "        for j in range (4):\n",
    "            if counts[row][j] != 0:\n",
    "                counts[row][j] = counts[row][j]/sumr\n",
    "    print(\"When T =\", T, \"the P_hat is\", counts)\n",
    "    print (\"Sum of squared errors:\", np.linalg.norm(P-counts)**2.)"
   ]
  },
  {
   "cell_type": "markdown",
   "metadata": {},
   "source": [
    "**<SPAN style=\"BACKGROUND-COLOR: #C0C0C0\">End of Problem 2</SPAN>**"
   ]
  },
  {
   "cell_type": "markdown",
   "metadata": {},
   "source": [
    "## Cache Replacement Policy:"
   ]
  },
  {
   "cell_type": "markdown",
   "metadata": {},
   "source": [
    "A cache is used to hold information so the information can be retrieved more quickly than going through memory. Suppose you have a memory or server that holds $n$ elements and you have a cache that holds $k$ elements ($n>k$). When you want to retrieve an item, you first search through the cache. If the item is in the cache, it is considered a hit. If it's not in the cache, it's considered a miss. When a miss occurs, you have the longer process of searching for the item in memory. A key question for cache design is what items to keep in the cache? When you have a miss should you place that item in the cache?  If so, what item in the cache should you replace (i.e. drop from the cache to make room)?  Since it's unlikely the items will be uniformly searched for (some items will be more popular than others) many policies have been developed to try and maximize the liklihood that a requested item will be in the cache. A few are listed below:\n",
    "<ol>\n",
    "    <li> Belady's Algorithm: This is considered to be the most efficient algorithm possible. When a miss occurs, it retrieves that item and replaces an item in the cache with it. The item that's replaced is the item that will not be retrieved for the longest time in the future. It is a practically impossible algorithm because it requires knowledge of how far in the future an item will needed. </li><br>\n",
    "    <li>Least Recently Used (LRU): You can think of this algorithm as a first in first out queue. When a miss occurs, that element gets retrieved from memory and gets put at the top of that queue. It replaces the item in the cache that was retrieved the longest time ago. When a hit occurs, that item gets put back to the top of the queue.</li><br>\n",
    "    <li>Random Replacement (RR): This algortihm is similiar to the LRU algorithm except the miss replaces an element that was previously in the cache, selected uniformly at random.</li><br>\n",
    "    <li>Least Frequently Used (LFU): In this algorithm the miss replaces the element in the cache that is the least frequently used. It's a little more complicated because you need to keep a count on the number of hits an element in the cache gets over a certain time period, or something similar. </li><br>\n",
    "</ol>\n",
    "\n",
    "Let's try and simulate the Least Recently Used policy. In your folder should be a file called all_names.csv. We are going to load this in and use it as the memory. We are also going to set up an ordered array to represent the cache. Then we're going to simulate retrievals of information based on a Zipf distribution and see what our experimental hit percentage is."
   ]
  },
  {
   "cell_type": "code",
   "execution_count": 3,
   "metadata": {},
   "outputs": [
    {
     "name": "stdout",
     "output_type": "stream",
     "text": [
      "Hit Percentage: 0.3562\n"
     ]
    },
    {
     "data": {
      "image/png": "[encoded data removed]",
      "text/plain": [
       "<Figure size 432x288 with 1 Axes>"
      ]
     },
     "metadata": {
      "needs_background": "light"
     },
     "output_type": "display_data"
    }
   ],
   "source": [
    "#Loads the CSV file\n",
    "def load_file(filename):\n",
    "    names = []\n",
    "    try:\n",
    "        f = open(filename)\n",
    "        reader = csv.reader(f)\n",
    "        for row in reader:\n",
    "            names.append(row[0])\n",
    "        f.close()\n",
    "    except:\n",
    "        print ('Error: Could Not Load File')\n",
    "    return np.array(names)\n",
    "\n",
    "#Creates a zipf distribution using the stats discrete module\n",
    "def zipf(s, N):\n",
    "    n = range(1,N+1)\n",
    "    p = []\n",
    "    z = 0.\n",
    "    for i in n:\n",
    "        temp = (1./i)**s\n",
    "        p.append(temp)\n",
    "        z = z+temp\n",
    "    for i in range(np.size(p)): p[i]=p[i]/z\n",
    "    return st.rv_discrete(name = 'Zipf', values=(n,p))\n",
    "\n",
    "#When a hit occurs, move the hit item to the top of the list for LRU\n",
    "def cache_hit(cache,item):\n",
    "    # cache.index(item) is current location of item in the cache\n",
    "    for i in range(cache.index(item),np.size(cache)-1):    \n",
    "        cache[i] = cache[i+1]\n",
    "    cache[np.size(cache)-1] = item\n",
    "    return cache\n",
    "    \n",
    "#When a miss occurs, replace the least recently used (LRU) item\n",
    "def cache_miss(cache, item):\n",
    "    for i in range(np.size(cache)-1):\n",
    "        cache[i]=cache[i+1]\n",
    "    cache[np.size(cache)-1] = item\n",
    "    return cache\n",
    "\n",
    "#Runs the main code for the simulation\n",
    "filename = 'all_names.csv'\n",
    "names = load_file(filename) #This is treated as your memory\n",
    "rv_zipf = zipf(1.0,np.size(names))\n",
    "k = 50 #Size of the Cache\n",
    "r = 10000 #Number of retrievals\n",
    "hits = 0. #Keeps track of the number of hits in the cache\n",
    "hit_av = [] #Keeps track of the hit average\n",
    "cache = [] #List to represent the cache\n",
    "\n",
    "# We first fill cache with k items.  We don't check for\n",
    "# duplicates because if item stream is not diverse this\n",
    "# step could cause infinite loop.\n",
    "while np.size(cache) < k:                 \n",
    "    rv = rv_zipf.rvs()-1   #Random variate from the zipf distribution\n",
    "    item = names[rv]    #Item to be retrieved\n",
    "    cache.append(item)\n",
    "        \n",
    "for i in range(r):\n",
    "    rv = rv_zipf.rvs()-1   #Random variate from the zipf distribution\n",
    "    item = names[rv]    #Item to be retrieved\n",
    "    if item in cache:\n",
    "        cache = cache_hit(cache, item)\n",
    "        hits = hits+1\n",
    "    else:\n",
    "        cache = cache_miss(cache, item)\n",
    "    hit_av.append(hits/(i+1))\n",
    "\n",
    "plt.plot(hit_av)\n",
    "plt.title('Moving Hit Percentage')\n",
    "plt.xlabel('Number of Items Retrieved')\n",
    "plt.ylabel('Hit Percentage')\n",
    "print ('Hit Percentage:', hit_av[np.size(hit_av)-1])"
   ]
  },
  {
   "cell_type": "markdown",
   "metadata": {},
   "source": [
    "<br>**<SPAN style=\"BACKGROUND-COLOR: #C0C0C0\">Problem 3:</SPAN>** Use the code given above to do the following:\n",
    "<ol>\n",
    "<li> Create a new simulation using a random replacement policy. What is the impact on the hit percentage? Plot the moving hit percentage under this policy.</li>\n",
    "<li> We used a Zipf distribution to represent the retrieval requests. It is a heavy tailed distribution with two parameters s and N. Run the given LRU simulation, but vary the s value from 0.5 to 3 in .5 increments. Plot the moving hit percentage under each of these conditions. Why might this be occuring? (The answer lies in the structure of the Zipf distribution)</li>\n",
    "<li> Setting s=1.0 again for the LRU simulation, print out the cache hit rate for k=50, 100, 400, respectively.  How does the cache hit rate vary with the cache size k? Why is that?  \n",
    "<li> Explain whether or not the state of the cache in this experiment can be viewed as a Markov process, both for the LRU policy and for the random replacement policy.</li>"
   ]
  },
  {
   "cell_type": "code",
   "execution_count": 7,
   "metadata": {},
   "outputs": [
    {
     "name": "stdout",
     "output_type": "stream",
     "text": [
      "Hit Percentage: 0.2985\n"
     ]
    },
    {
     "data": {
      "image/png": "[encoded data removed]",
      "text/plain": [
       "<Figure size 432x288 with 1 Axes>"
      ]
     },
     "metadata": {
      "needs_background": "light"
     },
     "output_type": "display_data"
    }
   ],
   "source": [
    "#part 1\n",
    "def cache_miss1(cache, item):\n",
    "    i = random.randint(0,np.size(cache)-1)\n",
    "    cache[i] = item\n",
    "    return cache\n",
    "#Runs the main code for the simulation\n",
    "filename = 'all_names.csv'\n",
    "names = load_file(filename) #This is treated as your memory\n",
    "rv_zipf = zipf(1.0,np.size(names))\n",
    "k = 50 #Size of the Cache\n",
    "r = 10000 #Number of retrievals\n",
    "hits = 0. #Keeps track of the number of hits in the cache\n",
    "hit_av = [] #Keeps track of the hit average\n",
    "cache = [] #List to represent the cache\n",
    "\n",
    "# We first fill cache with k items.  We don't check for\n",
    "# duplicates because if item stream is not diverse this\n",
    "# step could cause infinite loop.\n",
    "while np.size(cache) < k:                 \n",
    "    rv = rv_zipf.rvs()-1   #Random variate from the zipf distribution\n",
    "    item = names[rv]    #Item to be retrieved\n",
    "    cache.append(item)\n",
    "        \n",
    "for i in range(r):\n",
    "    rv = rv_zipf.rvs()-1   #Random variate from the zipf distribution\n",
    "    item = names[rv]    #Item to be retrieved\n",
    "    if item in cache:\n",
    "        cache = cache_hit(cache, item)\n",
    "        hits = hits+1\n",
    "    else:\n",
    "        cache = cache_miss1(cache, item)\n",
    "    hit_av.append(hits/(i+1))\n",
    "\n",
    "plt.plot(hit_av)\n",
    "plt.title('Moving Hit Percentage')\n",
    "plt.xlabel('Number of Items Retrieved')\n",
    "plt.ylabel('Hit Percentage')\n",
    "print ('Hit Percentage:', hit_av[np.size(hit_av)-1])"
   ]
  },
  {
   "cell_type": "code",
   "execution_count": 38,
   "metadata": {},
   "outputs": [
    {
     "name": "stdout",
     "output_type": "stream",
     "text": [
      "When s is:  0.5 the Hit Percentage: 0.0267\n",
      "When s is:  1.0 the Hit Percentage: 0.3434\n",
      "When s is:  1.5 the Hit Percentage: 0.819\n",
      "When s is:  2.0 the Hit Percentage: 0.9389\n",
      "When s is:  2.5 the Hit Percentage: 0.9808\n",
      "When s is:  3.0 the Hit Percentage: 0.988\n"
     ]
    },
    {
     "data": {
      "image/png": "[encoded data removed]",
      "text/plain": [
       "<Figure size 432x288 with 1 Axes>"
      ]
     },
     "metadata": {
      "needs_background": "light"
     },
     "output_type": "display_data"
    }
   ],
   "source": [
    "for s in [0.5, 1.0, 1.5, 2.0, 2.5, 3.0]:\n",
    "    filename = 'all_names.csv'\n",
    "    names = load_file(filename) #This is treated as your memory\n",
    "    rv_zipf = zipf(s,np.size(names))\n",
    "    k = 50 #Size of the Cache\n",
    "    r = 10000 #Number of retrievals\n",
    "    hits = 0. #Keeps track of the number of hits in the cache\n",
    "    hit_av = [] #Keeps track of the hit average\n",
    "    cache = [] #List to represent the cache\n",
    "\n",
    "    # We first fill cache with k items.  We don't check for\n",
    "    # duplicates because if item stream is not diverse this\n",
    "    # step could cause infinite loop.\n",
    "    while np.size(cache) < k:                 \n",
    "        rv = rv_zipf.rvs()-1   #Random variate from the zipf distribution\n",
    "        item = names[rv]    #Item to be retrieved\n",
    "        cache.append(item)\n",
    "\n",
    "    for i in range(r):\n",
    "        rv = rv_zipf.rvs()-1   #Random variate from the zipf distribution\n",
    "        item = names[rv]    #Item to be retrieved\n",
    "        if item in cache:\n",
    "            cache = cache_hit(cache, item)\n",
    "            hits = hits+1\n",
    "        else:\n",
    "            cache = cache_miss(cache, item)\n",
    "        hit_av.append(hits/(i+1))\n",
    "\n",
    "    plt.plot(hit_av, label = str(s))\n",
    "    plt.title('Moving Hit Percentage')\n",
    "    plt.xlabel('Number of Items Retrieved')\n",
    "    plt.ylabel('Hit Percentage')\n",
    "    print ('When s is: ',s,'the Hit Percentage:', hit_av[np.size(hit_av)-1])"
   ]
  },
  {
   "cell_type": "code",
   "execution_count": 43,
   "metadata": {
    "scrolled": true
   },
   "outputs": [
    {
     "name": "stdout",
     "output_type": "stream",
     "text": [
      "When K is 50 Hit Percentage: 0.3464\n",
      "When K is 100 Hit Percentage: 0.4374\n",
      "When K is 400 Hit Percentage: 0.5917\n"
     ]
    },
    {
     "data": {
      "image/png": "[encoded data removed]",
      "text/plain": [
       "<Figure size 432x288 with 1 Axes>"
      ]
     },
     "metadata": {
      "needs_background": "light"
     },
     "output_type": "display_data"
    }
   ],
   "source": [
    "for K in [50, 100, 400]:\n",
    "    filename = 'all_names.csv'\n",
    "    names = load_file(filename) #This is treated as your memory\n",
    "    rv_zipf = zipf(1.0,np.size(names))\n",
    "    k = K #Size of the Cache\n",
    "    r = 10000 #Number of retrievals\n",
    "    hits = 0. #Keeps track of the number of hits in the cache\n",
    "    hit_av = [] #Keeps track of the hit average\n",
    "    cache = [] #List to represent the cache\n",
    "\n",
    "    # We first fill cache with k items.  We don't check for\n",
    "    # duplicates because if item stream is not diverse this\n",
    "    # step could cause infinite loop.\n",
    "    while np.size(cache) < k:                 \n",
    "        rv = rv_zipf.rvs()-1   #Random variate from the zipf distribution\n",
    "        item = names[rv]    #Item to be retrieved\n",
    "        cache.append(item)\n",
    "\n",
    "    for i in range(r):\n",
    "        rv = rv_zipf.rvs()-1   #Random variate from the zipf distribution\n",
    "        item = names[rv]    #Item to be retrieved\n",
    "        if item in cache:\n",
    "            cache = cache_hit(cache, item)\n",
    "            hits = hits+1\n",
    "        else:\n",
    "            cache = cache_miss(cache, item)\n",
    "        hit_av.append(hits/(i+1))\n",
    "\n",
    "    plt.plot(hit_av)\n",
    "    plt.title('Moving Hit Percentage')\n",
    "    plt.xlabel('Number of Items Retrieved')\n",
    "    plt.ylabel('Hit Percentage')\n",
    "    print ('When K is', k, 'Hit Percentage:', hit_av[np.size(hit_av)-1])"
   ]
  },
  {
   "cell_type": "markdown",
   "metadata": {},
   "source": [
    "__Answer:__ (Your answer here)\n",
    "<li> part 1<li>\n",
    "    The hit percentage becomes lower. Plot as above.\n",
    "<li> part 2<li>\n",
    "    The hit rate becomes larger when s becomes larger. Because when the s becomes larger, the Zipf distribution will be more concentrated on the first several elements. Thus, the hit percentage would be larger.\n",
    "<li> part 3<li>\n",
    "    The hit percentage grows with the cache size growing. Because a larger cache could contain more elements, then the probablity of hit will increase.\n",
    "<li> part 4<li>\n",
    "    Yes, the states of the cache can be viewed as a Markov process in this problem for both RR and LRU. Because when the content of the cache is specific, no matter how it was produced, the next state's hit or miss is only depend on the current cache's content."
   ]
  },
  {
   "cell_type": "markdown",
   "metadata": {},
   "source": [
    "**<SPAN style=\"BACKGROUND-COLOR: #C0C0C0\">End of Problem 3</SPAN>**"
   ]
  },
  {
   "cell_type": "markdown",
   "metadata": {},
   "source": [
    "## Lab Questions:"
   ]
  },
  {
   "cell_type": "markdown",
   "metadata": {},
   "source": [
    "Make sure to complete all lab questions 1-3 for this weeks lab."
   ]
  },
  {
   "cell_type": "markdown",
   "metadata": {},
   "source": [
    "<div class=\"alert alert-block alert-warning\"> \n",
    "## Academic Integrity Statement ##\n",
    "\n",
    "By submitting the lab with this statement, you declare you have written up the lab entirely by yourself, including both code and markdown cells. You also agree that you should not share your code with anyone else. Any violation of the academic integrity requirement may cause an academic integrity report to be filed that could go into your student record. See <a href=\"https://provost.illinois.edu/policies/policies/academic-integrity/students-quick-reference-guide-to-academic-integrity/\">Students' Quick Reference Guide to Academic Integrity</a> for more information. "
   ]
  }
 ],
 "metadata": {
  "anaconda-cloud": {},
  "kernelspec": {
   "display_name": "Python 3",
   "language": "python",
   "name": "python3"
  },
  "language_info": {
   "codemirror_mode": {
    "name": "ipython",
    "version": 3
   },
   "file_extension": ".py",
   "mimetype": "text/x-python",
   "name": "python",
   "nbconvert_exporter": "python",
   "pygments_lexer": "ipython3",
   "version": "3.7.0"
  }
 },
 "nbformat": 4,
 "nbformat_minor": 1
}
